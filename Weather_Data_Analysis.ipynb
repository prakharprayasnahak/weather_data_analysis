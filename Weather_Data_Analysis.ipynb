{
 "cells": [
  {
   "cell_type": "markdown",
   "id": "8cbad5fd",
   "metadata": {},
   "source": [
    "# WEATHER DATA ANALYSIS"
   ]
  },
  {
   "cell_type": "code",
   "execution_count": null,
   "id": "19005645",
   "metadata": {},
   "outputs": [],
   "source": [
    "import pandas as pd\n",
    "\n",
    "WeatherData = pd.read_csv('Weather_data.csv')"
   ]
  },
  {
   "cell_type": "code",
   "execution_count": null,
   "id": "b5786b71",
   "metadata": {},
   "outputs": [],
   "source": [
    "WeatherData"
   ]
  },
  {
   "cell_type": "code",
   "execution_count": null,
   "id": "82c8b7bc",
   "metadata": {},
   "outputs": [],
   "source": [
    "WeatherData.shape"
   ]
  },
  {
   "cell_type": "code",
   "execution_count": null,
   "id": "87696d30",
   "metadata": {},
   "outputs": [],
   "source": [
    "# Checking if there are any null values and droping them\n",
    "WeatherData.isnull().sum()\n",
    "\n",
    "#Drop any row with nunW\n",
    "WeatherData.dropna()\n",
    "\n",
    "#Drop any column with nun\n",
    "WeatherData.dropna(axis=1)\n"
   ]
  },
  {
   "cell_type": "code",
   "execution_count": null,
   "id": "595260b0",
   "metadata": {},
   "outputs": [],
   "source": [
    "#To find unique instances of weather types\n",
    "\n",
    "weather=WeatherData['Weather'].value_counts() \n",
    "    #This line is like asking, “For each type of weather in our data, how many times does it occur?” \n",
    "    #It gives us a list of weather types and how often each one appears.\n",
    "\n",
    "dfweather=pd.DataFrame(weather) #Here, we’re taking our list of weather types and their frequencies, \n",
    "                                #and putting it into a table (or DataFrame) for easier viewing and handling.\n",
    "\n",
    "dfweather = dfweather.reset_index() #This step is like reorganizing our table so that it’s easier to read. \n",
    "                #Instead of having our weather types as the ‘names’ of the rows, we move them into a column of their own.\n",
    "\n",
    "dfweather.columns = ['Weather', 'Frequency'] # change column names\n",
    "#Finally, we’re giving names to the columns of our table. The first column, which contains the types of weather, we name ‘Weather’. \n",
    "#The second column, which tells us how often each type of weather occurs, we name ‘Frequency’.\n",
    "dfweather"
   ]
  },
  {
   "cell_type": "code",
   "execution_count": null,
   "id": "9c4c3e47",
   "metadata": {},
   "outputs": [],
   "source": [
    "# To rename column name 'Weather' to 'Weather Condition'\n",
    "WeatherData.rename(columns={'Weather' : 'Weather_Condition'}, inplace = True)"
   ]
  },
  {
   "cell_type": "code",
   "execution_count": null,
   "id": "f140c6a9",
   "metadata": {},
   "outputs": [],
   "source": [
    "#To find all records from data of when the weather was exactly clear\n",
    "WeatherData[WeatherData['Weather_Condition'] == 'Clear']"
   ]
  },
  {
   "cell_type": "code",
   "execution_count": null,
   "id": "d18e744d",
   "metadata": {},
   "outputs": [],
   "source": [
    "# To find the mean temperature, wind speed and visibility\n",
    "print(WeatherData['Temp_C'].mean())\n",
    "print(WeatherData['Wind Speed_km/h'].mean())\n",
    "print(WeatherData['Visibility_km'].mean())"
   ]
  },
  {
   "cell_type": "code",
   "execution_count": null,
   "id": "5313c766",
   "metadata": {},
   "outputs": [],
   "source": [
    "#To find the variance of pressure\n",
    "print(WeatherData['Press_kPa'].var())"
   ]
  },
  {
   "cell_type": "code",
   "execution_count": null,
   "id": "c3dac7ee",
   "metadata": {},
   "outputs": [],
   "source": [
    "#To find the days on which wind speed was less than or equal to 30 km/hr and temperature was greater than 0 C\n",
    "windspeed=WeatherData[(WeatherData['Wind Speed_km/h'] <=30) & (WeatherData['Temp_C']>0)]\n",
    "print(windspeed['Date/Time'])\n",
    "print(windspeed.shape)"
   ]
  },
  {
   "cell_type": "code",
   "execution_count": null,
   "id": "9e5853ba",
   "metadata": {
    "scrolled": true
   },
   "outputs": [],
   "source": [
    "#To find the date and temperatures for all instances when snow was recorded\n",
    "snow=WeatherData[WeatherData['Weather_Condition'] == 'Snow']\n",
    "snow.loc[:, ['Date/Time', 'Temp_C']]\n"
   ]
  },
  {
   "cell_type": "code",
   "execution_count": null,
   "id": "67348350",
   "metadata": {},
   "outputs": [],
   "source": [
    "import matplotlib.pyplot as plt\n",
    "import numpy as np\n",
    "%matplotlib inline"
   ]
  },
  {
   "cell_type": "code",
   "execution_count": null,
   "id": "5762f3d8",
   "metadata": {},
   "outputs": [],
   "source": [
    "#To display a graph of variation of temperature with respect to time\n",
    "graph=WeatherData[['Temp_C', 'Date/Time']]\n",
    "graph.plot(x='Date/Time', y='Temp_C',figsize=(10,7) )"
   ]
  },
  {
   "cell_type": "markdown",
   "id": "b0cc52ff",
   "metadata": {},
   "source": [
    "# PIE CHART"
   ]
  },
  {
   "cell_type": "markdown",
   "id": "b0acfc25",
   "metadata": {},
   "source": []
  },
  {
   "cell_type": "code",
   "execution_count": null,
   "id": "d5dd18e5",
   "metadata": {},
   "outputs": [],
   "source": [
    "#To display a pie chart of percentages of weather conditions\n",
    "#pie chart\n",
    "keep=dfweather[dfweather['Frequency']>20]\n",
    "print(keep)\n",
    "keep.plot.pie(y='Frequency',autopct='%1.1f%%', shadow=False, figsize=(12,9))\n",
    "plt.title(\"Weather Conditions\")\n",
    "plt.show()"
   ]
  }
 ],
 "metadata": {
  "kernelspec": {
   "display_name": "Python 3 (ipykernel)",
   "language": "python",
   "name": "python3"
  },
  "language_info": {
   "codemirror_mode": {
    "name": "ipython",
    "version": 3
   },
   "file_extension": ".py",
   "mimetype": "text/x-python",
   "name": "python",
   "nbconvert_exporter": "python",
   "pygments_lexer": "ipython3",
   "version": "3.12.3"
  }
 },
 "nbformat": 4,
 "nbformat_minor": 5
}
